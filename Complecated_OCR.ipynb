{
 "cells": [
  {
   "cell_type": "code",
   "execution_count": 77,
   "id": "9f509ce4",
   "metadata": {},
   "outputs": [],
   "source": [
    "import os\n",
    "import io\n",
    "import re\n",
    "import numpy as np\n",
    "import pandas as pd\n",
    "import platform\n",
    "from PIL import ImageFont, ImageDraw, Image\n",
    "import matplotlib.pyplot as plt\n",
    "\n",
    "import cv2\n",
    "from google.cloud import vision"
   ]
  },
  {
   "cell_type": "code",
   "execution_count": 78,
   "id": "620b2a62",
   "metadata": {},
   "outputs": [],
   "source": [
    "# OCR API 불러오기\n",
    "# \\ => /로 변환해야 파일 인식 가능(안바꾸면 유니코드 에러 발생함)\n",
    "os.environ['GOOGLE_APPLICATION_CREDENTIALS'] = 'C:/Users\\Hong Ji Young\\Desktop/Health-C/health-c-377913-17227fcd7bd5.json'\n",
    " \n",
    "client_options = {'api_endpoint': 'eu-vision.googleapis.com'}\n",
    "client = vision.ImageAnnotatorClient(client_options=client_options)"
   ]
  },
  {
   "cell_type": "code",
   "execution_count": 116,
   "id": "29a89c2b",
   "metadata": {},
   "outputs": [],
   "source": [
    "# 이미지 불러오기\n",
    "path = 'img2.jpg'\n",
    "with io.open(path, 'rb') as img_file:\n",
    "    content = img_file.read()"
   ]
  },
  {
   "cell_type": "code",
   "execution_count": 117,
   "id": "f6b2aefb",
   "metadata": {},
   "outputs": [],
   "source": [
    "# 이미지 OCR, 글자 인식(30초 정도 걸림)\n",
    "image = vision.Image(content=content)\n",
    " \n",
    "response = client.text_detection(image=image)\n",
    "texts = response.text_annotations"
   ]
  },
  {
   "cell_type": "code",
   "execution_count": 118,
   "id": "e0b3e6d9",
   "metadata": {},
   "outputs": [],
   "source": [
    "# 읽어온 글자 중 재료명만 골라내기 위한 작업<1>\n",
    "#     특수문자 제거, 순수한글 & 숫사 & 영어만 가져와서 리스트로 생성\n",
    "lst = []\n",
    "special_char = ''\n",
    "for text in texts[0].description.split(','):\n",
    "    x = [re.sub('[^A-Za-z0-9가-힣]', '', t) for t in text.split()]\n",
    "    for j in x:\n",
    "        lst.append(re.sub('[^A-Za-z0-9가-힣]', '', j))"
   ]
  },
  {
   "cell_type": "markdown",
   "id": "74e3ddbf",
   "metadata": {},
   "source": [
    "## 엑셀 파일 읽어오기"
   ]
  },
  {
   "cell_type": "code",
   "execution_count": 101,
   "id": "f2f28c82",
   "metadata": {},
   "outputs": [],
   "source": [
    "# xlsx파일 dataframe으로 생성\n",
    "materials = pd.read_excel('materials_all.xlsx')"
   ]
  },
  {
   "cell_type": "code",
   "execution_count": 102,
   "id": "4974bb4c",
   "metadata": {},
   "outputs": [
    {
     "data": {
      "text/html": [
       "<div>\n",
       "<style scoped>\n",
       "    .dataframe tbody tr th:only-of-type {\n",
       "        vertical-align: middle;\n",
       "    }\n",
       "\n",
       "    .dataframe tbody tr th {\n",
       "        vertical-align: top;\n",
       "    }\n",
       "\n",
       "    .dataframe thead th {\n",
       "        text-align: right;\n",
       "    }\n",
       "</style>\n",
       "<table border=\"1\" class=\"dataframe\">\n",
       "  <thead>\n",
       "    <tr style=\"text-align: right;\">\n",
       "      <th></th>\n",
       "      <th>Unnamed: 0</th>\n",
       "      <th>원재료</th>\n",
       "      <th>대표원재료명</th>\n",
       "      <th>원재료이명</th>\n",
       "    </tr>\n",
       "  </thead>\n",
       "  <tbody>\n",
       "    <tr>\n",
       "      <th>0</th>\n",
       "      <td>0</td>\n",
       "      <td>Abiu열매</td>\n",
       "      <td>Abiu열매</td>\n",
       "      <td>NaN</td>\n",
       "    </tr>\n",
       "    <tr>\n",
       "      <th>1</th>\n",
       "      <td>1</td>\n",
       "      <td>Agathi꽃</td>\n",
       "      <td>Agathi꽃</td>\n",
       "      <td>NaN</td>\n",
       "    </tr>\n",
       "    <tr>\n",
       "      <th>2</th>\n",
       "      <td>2</td>\n",
       "      <td>Agathi잎</td>\n",
       "      <td>Agathi잎</td>\n",
       "      <td>NaN</td>\n",
       "    </tr>\n",
       "    <tr>\n",
       "      <th>3</th>\n",
       "      <td>3</td>\n",
       "      <td>Alder Buckthorn</td>\n",
       "      <td>Alder Buckthorn</td>\n",
       "      <td>NaN</td>\n",
       "    </tr>\n",
       "    <tr>\n",
       "      <th>4</th>\n",
       "      <td>4</td>\n",
       "      <td>Algarrobo Blanco</td>\n",
       "      <td>Algarrobo Blanco</td>\n",
       "      <td>NaN</td>\n",
       "    </tr>\n",
       "  </tbody>\n",
       "</table>\n",
       "</div>"
      ],
      "text/plain": [
       "   Unnamed: 0                원재료            대표원재료명 원재료이명\n",
       "0           0            Abiu열매             Abiu열매   NaN\n",
       "1           1           Agathi꽃            Agathi꽃   NaN\n",
       "2           2           Agathi잎            Agathi잎   NaN\n",
       "3           3   Alder Buckthorn    Alder Buckthorn   NaN\n",
       "4           4  Algarrobo Blanco   Algarrobo Blanco   NaN"
      ]
     },
     "execution_count": 102,
     "metadata": {},
     "output_type": "execute_result"
    }
   ],
   "source": [
    "materials.head()"
   ]
  },
  {
   "cell_type": "code",
   "execution_count": 119,
   "id": "eb0792ce",
   "metadata": {},
   "outputs": [],
   "source": [
    "food_materials = pd.DataFrame({'원재료' : list(set(lst))})\n",
    "result = pd.merge(materials, food_materials\n",
    "                   , how=\"inner\", right_on=\"원재료\", left_on=\"대표원재료명\")"
   ]
  },
  {
   "cell_type": "code",
   "execution_count": 120,
   "id": "5544003d",
   "metadata": {},
   "outputs": [
    {
     "data": {
      "text/plain": [
       "['대두',\n",
       " '땅콩',\n",
       " '밀',\n",
       " '밀가루',\n",
       " '코코아매스',\n",
       " '맥아엑기스',\n",
       " '돼지고기',\n",
       " '우유',\n",
       " '유당',\n",
       " '알긴산프로필렌글리콜',\n",
       " '효모',\n",
       " '단백질',\n",
       " '폴리프로필렌',\n",
       " '설탕',\n",
       " '쇼트닝',\n",
       " '초콜릿',\n",
       " '가공버터',\n",
       " '가공유',\n",
       " '전지분골드',\n",
       " '준초콜릿',\n",
       " '효소제',\n",
       " '나트륨']"
      ]
     },
     "execution_count": 120,
     "metadata": {},
     "output_type": "execute_result"
    }
   ],
   "source": [
    "list(result[\"대표원재료명\"])"
   ]
  },
  {
   "cell_type": "code",
   "execution_count": 89,
   "id": "15521796",
   "metadata": {},
   "outputs": [
    {
     "name": "stdout",
     "output_type": "stream",
     "text": [
      "       Unnamed: 0                                               원재료\n",
      "14697       14697       폴리알킬렌(에틸렌-프로필렌 포함)글리콜부톡시모노에테르(평균분자량 3,300) \n",
      "14705       14705                  옥시란과 메틸옥시란의 블록공중합체(평균분자량 1,900) \n",
      "14706       14706                옥시란과 메틸옥시란의 블록공중합체(최소평균분자량 2,000) \n",
      "14707       14707  옥시란과 메틸옥시란의 블록공중합체 (메틸옥시란이 27～31몰, 평균분자량 2,000) \n",
      "14734       14734      폴리알킬렌(에틸렌-프로필렌 포함)글리콜부톡시모노에테르 (최소분자량 2,400) \n",
      "...           ...                                               ...\n",
      "27260       27260                                       COLOUR 100 \n",
      "27967       27967               POLYETHYLENE GLYCOL (400) DIOLEATE \n",
      "27968       27968               POLYETHYLENE GLYCOL (600) DIOLEATE \n",
      "27973       27973                   POLYOXYETHYLENE (600) DIOLEATE \n",
      "27976       27976            POLYOXYETHYLENE (600) MONORICINOLEATE \n",
      "\n",
      "[296 rows x 2 columns]\n"
     ]
    }
   ],
   "source": [
    "# 사용하지 않는 코드(참고만)\n",
    "common_materials = pd.DataFrame()\n",
    "for txt in lst:\n",
    "    print(materials[materials['원재료'].str.contains(txt)])\n",
    "#     print(materials.query('원재료.str.contains(@txt)'), engine=\"python\")"
   ]
  }
 ],
 "metadata": {
  "kernelspec": {
   "display_name": "Python 3 (ipykernel)",
   "language": "python",
   "name": "python3"
  },
  "language_info": {
   "codemirror_mode": {
    "name": "ipython",
    "version": 3
   },
   "file_extension": ".py",
   "mimetype": "text/x-python",
   "name": "python",
   "nbconvert_exporter": "python",
   "pygments_lexer": "ipython3",
   "version": "3.9.7"
  }
 },
 "nbformat": 4,
 "nbformat_minor": 5
}
